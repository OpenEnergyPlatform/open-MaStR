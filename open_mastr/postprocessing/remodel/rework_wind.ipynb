{
 "cells": [
  {
   "cell_type": "code",
   "execution_count": 30,
   "metadata": {},
   "outputs": [],
   "source": [
    "import pandas as pd\n",
    "import numpy as np\n",
    "import datetime \n",
    "\n",
    "version = '2.0.3'\n",
    "\n",
    "fn_wind_unit = f'data/bnetza_mastr_rli_v{version}_unit-wind'\n",
    "fn_wind = f'data/bnetza_mastr_rli_v{version}_wind'\n",
    "fn_wind_eeg = f'data/bnetza_mastr_rli_v{version}_wind-eeg'\n",
    "\n",
    "df_wind = pd.read_csv(f'{fn_wind}.csv', \n",
    "                      encoding='utf8', sep=';', dtype={\"Postleitzahl\":str})\n",
    "\n",
    "df_wind_unit = pd.read_csv(f'{fn_wind_unit}.csv', \n",
    "                      encoding='utf8', sep=';', dtype={\"Postleitzahl\":str})\n",
    "df_wind_eeg = pd.read_csv(f'{fn_wind_eeg}.csv', \n",
    "                      encoding='utf8', sep=';', dtype={\"Postleitzahl\":str})"
   ]
  },
  {
   "cell_type": "code",
   "execution_count": 31,
   "metadata": {},
   "outputs": [],
   "source": [
    "\"\"\" from pandas github https://github.com/pandas-dev/pandas/issues/11250 \"\"\"\n",
    "def duplicate_columns(frame):\n",
    "    groups = frame.columns.to_series().groupby(frame.dtypes).groups\n",
    "    dups = []\n",
    "\n",
    "    for t, v in groups.items():\n",
    "\n",
    "        cs = frame[v].columns\n",
    "        vs = frame[v]\n",
    "        lcs = len(cs)\n",
    "\n",
    "        for i in range(lcs):\n",
    "            iv = vs.iloc[:,i].tolist()\n",
    "            for j in range(i+1, lcs):\n",
    "                jv = vs.iloc[:,j].tolist()\n",
    "                if iv == jv:\n",
    "                    dups.append(cs[i])\n",
    "                    break\n",
    "\n",
    "    return dups"
   ]
  },
  {
   "cell_type": "code",
   "execution_count": 32,
   "metadata": {},
   "outputs": [
    {
     "data": {
      "text/plain": [
       "' then consider Leistung and Meldedatum '"
      ]
     },
     "execution_count": 32,
     "metadata": {},
     "output_type": "execute_result"
    }
   ],
   "source": [
    "import datetime\n",
    "\n",
    "df_wind.EinheitMastrNummer.astype(str)\n",
    "df_wind_unit.EinheitMastrNummer.astype(str)\n",
    "\n",
    "df_wind = df_wind.drop(['EegMastrNummer','timestamp','lid'], axis=1)\n",
    "df_all = df_wind.merge(df_wind_unit, on='EinheitMastrNummer')\n",
    "df_all.merge(df_wind_eeg, on='EegMastrNummer')\n",
    "df_all['timestamp'] = datetime.datetime.now()\n",
    "df_all.to_csv(\"all_windunits.csv\", index=False)\n",
    "\n",
    "\"\"\" NOW, check for other duplicates considering SME / SEE and PLZ \"\"\"\n",
    "\n",
    "\"\"\" then consider Leistung and Meldedatum \"\"\""
   ]
  },
  {
   "cell_type": "code",
   "execution_count": 33,
   "metadata": {},
   "outputs": [],
   "source": [
    "def duplicate_filtering(meldedatum, mastrnr, aktualisierung):\n",
    "    if pd.Series.to_string(mastrnr).find('SEE'):\n",
    "        init_date = datetime.datetime(2019, 1, 31)\n",
    "        if not meldedatum.isnull().any():\n",
    "            for x in meldedatum:\n",
    "                dt = datetime.datetime.strptime(x,'%Y-%m-%d')\n",
    "                if dt < datetime.datetime.strptime('2019-01-31','%Y-%m-%d'):\n",
    "                    print(dt)\n",
    "\n",
    "split = df_all.groupby(['Postleitzahl']).apply(lambda x : \n",
    "                                                                    duplicate_filtering(x['Meldedatum'], \n",
    "                                                                                   x['EinheitMastrNummer'],\n",
    "                                                                                   x['DatumLetzteAktualisierung']))"
   ]
  },
  {
   "cell_type": "code",
   "execution_count": 34,
   "metadata": {},
   "outputs": [
    {
     "data": {
      "text/plain": [
       "' --> 1) not enough entries with non NaN Meldedatum 2) no Meldedatum < 31.01.19 '"
      ]
     },
     "execution_count": 34,
     "metadata": {},
     "output_type": "execute_result"
    }
   ],
   "source": [
    "\"\"\" Test for Meldedatum \"\"\"\n",
    "df_allWithMeldedatum = df_all.loc[~df_all['Meldedatum'].isnull()]\n",
    "df_allWithMeldedatum.to_csv(\"all_wind_with_Meldedatum.csv\", index=False)\n",
    "df_MeldedatumSME = df1.loc[pd.to_datetime(df1['Meldedatum']) < datetime.datetime.strptime('2019-01-31','%Y-%m-%d')]\n",
    "df_MeldedatumSME.head()\n",
    "\n",
    "\"\"\" --> 1) not enough entries with non NaN Meldedatum 2) no Meldedatum < 31.01.19 \"\"\""
   ]
  },
  {
   "cell_type": "code",
   "execution_count": 35,
   "metadata": {},
   "outputs": [],
   "source": [
    "\"\"\" Test for DatumLetzteAktualisierung \"\"\"\n",
    "\n",
    "df_allWithUpdate = df_all.loc[~df_all['DatumLetzteAktualisierung'].isnull()]\n",
    "\n",
    "\n",
    "\n",
    "\"\"\" SME < 31.1.19 \"\"\"\n",
    "\n",
    "df_UpdateAndDateSME = df_allWithUpdate.loc[pd.to_datetime(df_allWithUpdate['DatumLetzteAktualisierung']) \n",
    "                           <= datetime.datetime.strptime('2019-01-31','%Y-%m-%d')]\n",
    "\"\"\" check wether EinheitMastrNummer is SME \"\"\"\n",
    "df_SME = df_UpdateAndDateSME[df_UpdateAndDateSME['EinheitMastrNummer'].astype(str).str.contains('SME')]\n",
    "\n",
    "\n",
    "\n",
    "\"\"\" SEE > 31.1.19 \"\"\"\n",
    "\n",
    "df_UpdateAndDateSEE = df_allWithUpdate.loc[pd.to_datetime(df_allWithUpdate['DatumLetzteAktualisierung']) >\n",
    "                           datetime.datetime.strptime('2019-01-31','%Y-%m-%d')]\n",
    "\"\"\" check wether EinheitMastrNummer is SME \"\"\"\n",
    "df_SEE = df_UpdateAndDateSEE[df_UpdateAndDateSEE['EinheitMastrNummer'].astype(str).str.contains('SEE')]"
   ]
  },
  {
   "cell_type": "code",
   "execution_count": 36,
   "metadata": {},
   "outputs": [],
   "source": [
    "\"\"\" test for duplicates based on EinheitMastrNummer, date divergence, same plz and leistung \"\"\"    \n",
    "\n",
    "def check_dups(df, plz):\n",
    "    df_SME = df[df['EinheitMastrNummer'].astype(str).str.contains('SME')]\n",
    "    df_SEE = df[df['EinheitMastrNummer'].astype(str).str.contains('SEE')]\n",
    "    if not df_SME.empty and not df_SEE.empty:\n",
    "        \"\"\" NOW search for duplicate leistungen -- for elem in df : search for same Leistung in other df\"\"\"\n",
    "        df = pd.DataFrame()\n",
    "        df_new = pd.DataFrame()\n",
    "        \"\"\" compare each SME Leistung with each Leistung in SEE \"\"\"\n",
    "        for name,val in df_SME.iterrows():\n",
    "            mastrNR = df_SEE['EinheitMastrNummer'].where(df_SEE['Bruttoleistung_y']==val['Bruttoleistung_y'])\n",
    "            if not mastrNR.isnull().any():\n",
    "                df_new = pd.DataFrame({'SME_nr':val['EinheitMastrNummer'], 'SEE_nr':mastrNR, 'bruttoleistung':val['Bruttoleistung_y'], 'plz': plz})\n",
    "            if not df_new.empty:\n",
    "                df = df.append(df_new)\n",
    "        return df"
   ]
  },
  {
   "cell_type": "code",
   "execution_count": 37,
   "metadata": {},
   "outputs": [],
   "source": [
    "\"\"\" NOW - we have two frames: one with SME <= 31.1.19 and one with SEE > 31.1.19 \"\"\"\n",
    "\n",
    "pd_all = pd.concat([df_SEE, df_SME]).groupby(['Postleitzahl'], as_index=False)\n",
    "all_dups = pd.DataFrame()\n",
    "\n",
    "for plz, df in pd_all:\n",
    "    all_dups = all_dups.append(check_dups(df, plz))\n",
    "\n",
    "all_dups.to_csv(\"all_dups.csv\")\n",
    "\n",
    "\"\"\" total length of concat array: 25059 // plz with SEE and SME: 16323 \"\"\"\n",
    "all_dups.to_csv(\"possible_duplicates.csv\")"
   ]
  }
 ],
 "metadata": {
  "kernelspec": {
   "display_name": "Python 3",
   "language": "python",
   "name": "python3"
  },
  "language_info": {
   "codemirror_mode": {
    "name": "ipython",
    "version": 3
   },
   "file_extension": ".py",
   "mimetype": "text/x-python",
   "name": "python",
   "nbconvert_exporter": "python",
   "pygments_lexer": "ipython3",
   "version": "3.6.8"
  }
 },
 "nbformat": 4,
 "nbformat_minor": 2
}
