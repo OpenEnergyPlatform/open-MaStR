{
 "cells": [
  {
   "cell_type": "markdown",
   "metadata": {},
   "source": [
    "<img src=\"http://openenergy-platform.org/static/OEP_logo_2_no_text.svg\" alt=\"OpenEnergy Platform\" height=\"100\" width=\"100\"  align=\"left\"/>\n",
    "<img src=\"https://upload.wikimedia.org/wikipedia/commons/thumb/a/ad/Bhl_neue_wege_logo_transparent.svg/2000px-Bhl_neue_wege_logo_transparent.svg.png\" alt=\"BHL\" height=\"300\" width=\"300\" align=\"right\"/>\n",
    "\n",
    "# OpenEnergyPlatform\n",
    "<br><br>\n",
    "\n",
    "# MaStR - OPSD - Comparison\n",
    "Repository: https://github.com/OpenEnergyPlatform/data-preprocessing/tree/master/data-import/bnetza_mastr\n",
    "\n",
    "Please report bugs and improvements here: https://github.com/OpenEnergyPlatform/data-preprocessing/issues <br>\n",
    "How to get started with Jupyter Notebooks can be found here: https://github.com/OpenEnergyPlatform/oeplatform/wiki"
   ]
  },
  {
   "cell_type": "code",
   "execution_count": 1,
   "metadata": {},
   "outputs": [],
   "source": [
    "__copyright__ = \"Bauhaus Luftfahrt e.V.\"\n",
    "__license__   = \"GNU Affero General Public License Version 3 (AGPL-3.0)\"\n",
    "__url__       = \"https://github.com/openego/data_processing/blob/master/LICENSE\"\n",
    "__author__    = \"Benjamin W. Portner\""
   ]
  },
  {
   "cell_type": "markdown",
   "metadata": {
    "toc": true
   },
   "source": [
    "<h1>Table of Contents<span class=\"tocSkip\"></span></h1>\n",
    "<div class=\"toc\"><ul class=\"toc-item\"><li><span><a href=\"#Abstract\" data-toc-modified-id=\"Abstract-1\"><span class=\"toc-item-num\">1&nbsp;&nbsp;</span>Abstract</a></span></li><li><span><a href=\"#Data-import\" data-toc-modified-id=\"Data-import-2\"><span class=\"toc-item-num\">2&nbsp;&nbsp;</span>Data import</a></span></li><li><span><a href=\"#Comparison\" data-toc-modified-id=\"Comparison-3\"><span class=\"toc-item-num\">3&nbsp;&nbsp;</span>Comparison</a></span><ul class=\"toc-item\"><li><span><a href=\"#OEP\" data-toc-modified-id=\"OEP-3.1\"><span class=\"toc-item-num\">3.1&nbsp;&nbsp;</span>OEP</a></span></li><li><span><a href=\"#OPSD\" data-toc-modified-id=\"OPSD-3.2\"><span class=\"toc-item-num\">3.2&nbsp;&nbsp;</span>OPSD</a></span></li><li><span><a href=\"#Cleaning-and-re-comparison\" data-toc-modified-id=\"Cleaning-and-re-comparison-3.3\"><span class=\"toc-item-num\">3.3&nbsp;&nbsp;</span>Cleaning and re-comparison</a></span></li></ul></li><li><span><a href=\"#Conclusion\" data-toc-modified-id=\"Conclusion-4\"><span class=\"toc-item-num\">4&nbsp;&nbsp;</span>Conclusion</a></span></li></ul></div>"
   ]
  },
  {
   "cell_type": "markdown",
   "metadata": {},
   "source": [
    "## Abstract"
   ]
  },
  {
   "cell_type": "markdown",
   "metadata": {},
   "source": [
    "[Open Power System Data](https://open-power-system-data.org/) is a platform for the collection of energy data and models. It aims at \"realising the efficiency and quality gains of centralised data provision by collecting, checking, processing, aggregating, documenting and publishing data required by most modellers\" ([Source](https://www.sciencedirect.com/science/article/pii/S0306261918318130?via%3Dihub)). As such, it's aims are in accordance with the OEP. Recently, the OEP started offering access to data from the German Marktstammdatenregister (MaStR) containing all renewable power plants in Germany. The OPSD on the other hand, offers datasets of renewable and fossil power plants for most European countries. In this notebook, I will compare the OPSD's data on hydro, wind and biomass power plants in Germany with the OEP-MaStR dataset."
   ]
  },
  {
   "cell_type": "markdown",
   "metadata": {},
   "source": [
    "## Data import"
   ]
  },
  {
   "cell_type": "markdown",
   "metadata": {},
   "source": [
    "First off, package imports:"
   ]
  },
  {
   "cell_type": "code",
   "execution_count": null,
   "metadata": {},
   "outputs": [],
   "source": [
    "import pandas as pd\n",
    "import os\n",
    "import geopandas as gpd\n",
    "from shapely.geometry import Point\n",
    "import upsetplot"
   ]
  },
  {
   "cell_type": "markdown",
   "metadata": {},
   "source": [
    "Load and merge OEP-MaStR-data v. 1.4:"
   ]
  },
  {
   "cell_type": "code",
   "execution_count": null,
   "metadata": {},
   "outputs": [],
   "source": [
    "version = '1.4'\n",
    "\n",
    "fn_wind = f'bnetza_mastr_rli_v{version}_wind'\n",
    "df_wind = pd.read_csv(f'data/OEP/bnetza_mastr_power-units_rli_v{version}/{fn_wind}.csv', \n",
    "                      encoding='utf8', sep=';', parse_dates=[\"Inbetriebnahmedatum\"], dtype={\"Postleitzahl\":str}, low_memory=False)\n",
    "\n",
    "fn_hydro = f'bnetza_mastr_rli_v{version}_hydro'\n",
    "df_hydro = pd.read_csv(f'data/OEP/bnetza_mastr_power-units_rli_v{version}/{fn_hydro}.csv', \n",
    "                       encoding='utf8', sep=';', parse_dates=[\"Inbetriebnahmedatum\"], dtype={\"Postleitzahl\":str}, low_memory=False)\n",
    "\n",
    "fn_biomass = f'bnetza_mastr_rli_v{version}_biomass'\n",
    "df_biomass = pd.read_csv(f'data/OEP/bnetza_mastr_power-units_rli_v{version}/{fn_biomass}.csv', \n",
    "                         encoding='utf8', sep=';', parse_dates=[\"Inbetriebnahmedatum\"], dtype={\"Postleitzahl\":str}, low_memory=False)\n",
    "\n",
    "df_OEP = df_wind.append(df_hydro, ignore_index=True, sort=False).append(df_biomass, ignore_index=True, sort=False)"
   ]
  },
  {
   "cell_type": "markdown",
   "metadata": {},
   "source": [
    "Load OPSD renewables data:"
   ]
  },
  {
   "cell_type": "code",
   "execution_count": 4,
   "metadata": {},
   "outputs": [],
   "source": [
    "# load renewables\n",
    "df_renewables = pd.read_csv(\n",
    "    \"data/OPSD/renewable_power_plants_DE.csv\",\n",
    "    sep=\";\", encoding=\"latin\", parse_dates=[\"commissioning_date\"]\n",
    ")\n",
    "\n",
    "# keep only wind, bioenergy and hydro\n",
    "df_renewables = df_renewables[df_renewables[\"energy_source_level_2\"].isin([\"Wind\",\"Bioenergy\",\"Hydro\"])]\n",
    "\n",
    "# rename columns for compatibiliy with OEP data\n",
    "df_renewables.rename(columns={\n",
    "    \"energy_source_level_2\": \"Einheittyp\",\n",
    "    \"address\" : \"Standort\",\n",
    "    \"federal_state\": \"Bundesland\",\n",
    "    \"commissioning_date\": \"Inbetriebnahmedatum\",\n",
    "    \"electrical_capacity\": \"Bruttoleistung\",\n",
    "    \"lat\": \"Breitengrad\",\n",
    "    \"lon\": \"Laengengrad\",\n",
    "    \"eeg_id\": \"AnlagenschluesselEeg\",\n",
    "}, inplace=True)\n",
    "\n",
    "# add columns which are not defined in OPSD data\n",
    "df_renewables[\"Name\"] = None\n",
    "df_renewables[\"Land\"] = \"Deutschland\"\n",
    "\n",
    "# rename types for compatibility with OEP\n",
    "df_renewables[\"Einheittyp\"].replace({\"Hydro\": \"Wasser\", \"Bioenergy\": \"Biomasse\", \"Wind\": \"Windeinheit\"}, inplace=True)"
   ]
  },
  {
   "cell_type": "markdown",
   "metadata": {},
   "source": [
    "For reasons unknown to me, some hydro and biomass power plants are left out of the renewables dataset. Instead they are contained in the conventional data. Load OPSD conventional data, filter biomass, hydro and wind. Merge with renewables:"
   ]
  },
  {
   "cell_type": "code",
   "execution_count": 5,
   "metadata": {},
   "outputs": [],
   "source": [
    "# load conventional\n",
    "df_conv = pd.read_csv(\n",
    "    \"data/OPSD/conventional_power_plants_DE.csv\",\n",
    "    sep = \",\", encoding = \"latin\", decimal=\".\", dtype={\"commissioned\": str}\n",
    ")\n",
    "\n",
    "# keep only wind, bioenergy and hydro\n",
    "df_conv = df_conv[df_conv[\"energy_source_level_2\"].isin([\"Wind\",\"Bioenergy\",\"Hydro\"])]\n",
    "\n",
    "# commissioning dates are given as string with format YYYY.0 - Parse manually:\n",
    "df_conv[\"commissioned\"] = pd.to_datetime(df_conv[\"commissioned\"], format=\"%Y.0\")\n",
    "\n",
    "# rename columns for compatibiliy with OEP data\n",
    "df_conv.rename(columns={\n",
    "    \"energy_source_level_2\": \"Einheittyp\",\n",
    "    \"street\": \"Standort\",\n",
    "    \"state\": \"Bundesland\",\n",
    "    \"commissioned\": \"Inbetriebnahmedatum\",\n",
    "    \"capacity_gross_uba\": \"Bruttoleistung\",\n",
    "    \"lat\": \"Breitengrad\",\n",
    "    \"lon\": \"Laengengrad\",\n",
    "    \"eeg\": \"AnlagenschluesselEeg\",\n",
    "}, inplace=True)\n",
    "\n",
    "# add columns which are not defined in OPSD data\n",
    "df_conv[\"Land\"] = \"Deutschland\"\n",
    "df_conv[\"Name\"] = df_conv[\"name_bnetza\"].fillna(\"\") + df_conv[\"name_uba\"].fillna(\"\")\n",
    "\n",
    "# rename types for compatibility with OEP\n",
    "df_conv[\"Einheittyp\"].replace({\"Hydro\": \"Wasser\", \"Bioenergy\": \"Biomasse\", \"Wind\": \"Windeinheit\"}, inplace=True)\n",
    "\n",
    "# merge\n",
    "df_OPSD = df_renewables.append(df_conv, ignore_index=True, sort=False)"
   ]
  },
  {
   "cell_type": "markdown",
   "metadata": {},
   "source": [
    "## Comparison"
   ]
  },
  {
   "cell_type": "markdown",
   "metadata": {},
   "source": [
    "Divide OEP and OPSD datasets into four sets each:\n",
    "- plants without EEG ID\n",
    "- hydro\n",
    "- biomass\n",
    "- wind"
   ]
  },
  {
   "cell_type": "code",
   "execution_count": 6,
   "metadata": {},
   "outputs": [],
   "source": [
    "df_OEP_no_EEG = df_OEP[df_OEP[\"AnlagenschluesselEeg\"].isna()]\n",
    "df_OEP_EEG = df_OEP[~df_OEP[\"AnlagenschluesselEeg\"].isna()]\n",
    "df_OEP_biomass = df_OEP_EEG[df_OEP_EEG[\"Einheittyp\"]==\"Biomasse\"]\n",
    "df_OEP_hydro = df_OEP_EEG[df_OEP_EEG[\"Einheittyp\"]==\"Wasser\"]\n",
    "df_OEP_wind = df_OEP_EEG[df_OEP_EEG[\"Einheittyp\"]==\"Windeinheit\"]\n",
    "\n",
    "df_OPSD_no_EEG = df_OPSD[df_OPSD[\"AnlagenschluesselEeg\"].isna()]\n",
    "df_OPSD_EEG = df_OPSD[~df_OPSD[\"AnlagenschluesselEeg\"].isna()]\n",
    "df_OPSD_biomass = df_OPSD_EEG[df_OPSD_EEG[\"Einheittyp\"]==\"Biomasse\"]\n",
    "df_OPSD_hydro = df_OPSD_EEG[df_OPSD_EEG[\"Einheittyp\"]==\"Wasser\"]\n",
    "df_OPSD_wind = df_OPSD_EEG[df_OPSD_EEG[\"Einheittyp\"]==\"Windeinheit\"]"
   ]
  },
  {
   "cell_type": "markdown",
   "metadata": {},
   "source": [
    "Get unique EEG IDs for each set. Plot number and intersections using [UpSetPlot](https://github.com/jnothman/UpSetPlot)."
   ]
  },
  {
   "cell_type": "code",
   "execution_count": 7,
   "metadata": {},
   "outputs": [
    {
     "data": {
      "text/plain": [
       "{'matrix': <matplotlib.axes._subplots.AxesSubplot at 0x1cf68278>,\n",
       " 'shading': <matplotlib.axes._subplots.AxesSubplot at 0x1cf81278>,\n",
       " 'totals': <matplotlib.axes._subplots.AxesSubplot at 0x1480d128>,\n",
       " 'intersections': <matplotlib.axes._subplots.AxesSubplot at 0x148675f8>}"
      ]
     },
     "execution_count": 7,
     "metadata": {},
     "output_type": "execute_result"
    },
    {
     "data": {
      "image/png": "[encoded data removed]",
      "text/plain": [
       "<Figure size 690.25x448 with 4 Axes>"
      ]
     },
     "metadata": {
      "needs_background": "light"
     },
     "output_type": "display_data"
    }
   ],
   "source": [
    "content = {\n",
    "    \"OEP EEG\": df_OEP_EEG[\"AnlagenschluesselEeg\"].unique(),\n",
    "    \"OEP biomass\": df_OEP_biomass[\"AnlagenschluesselEeg\"].unique(),\n",
    "    \"OEP hydro\": df_OEP_hydro[\"AnlagenschluesselEeg\"].unique(),\n",
    "    \"OEP wind\": df_OEP_wind[\"AnlagenschluesselEeg\"].unique(),\n",
    "    \"OPSD EEG\": df_OPSD_EEG[\"AnlagenschluesselEeg\"].unique(),\n",
    "    \"OPSD biomass\": df_OPSD_biomass[\"AnlagenschluesselEeg\"].unique(),\n",
    "    \"OPSD hydro\": df_OPSD_hydro[\"AnlagenschluesselEeg\"].unique(),\n",
    "    \"OPSD wind\": df_OPSD_wind[\"AnlagenschluesselEeg\"].unique(),\n",
    "}\n",
    "df_upset = upsetplot.from_contents(content)\n",
    "upsetplot.plot(df_upset, subset_size=\"count\", sort_categories_by=None, show_counts=True)"
   ]
  },
  {
   "cell_type": "markdown",
   "metadata": {},
   "source": [
    "### OEP"
   ]
  },
  {
   "cell_type": "markdown",
   "metadata": {},
   "source": [
    "The OEP-MaStR data contains 50,654 unique EEG IDs. Of these, 14,960 belong to bioenergy plants. 6,382 belong to hydro power plants. 29,313 belong to wind turbines. One EEG ID (E21875011000000000000295597000000) is incorrectly assigned both to a bioenergy plant and to a hydro power plant. This EEG ID is not contained in OPSD data so the assignment cannot be corrected:"
   ]
  },
  {
   "cell_type": "code",
   "execution_count": 8,
   "metadata": {},
   "outputs": [
    {
     "data": {
      "text/html": [
       "<div>\n",
       "<style scoped>\n",
       "    .dataframe tbody tr th:only-of-type {\n",
       "        vertical-align: middle;\n",
       "    }\n",
       "\n",
       "    .dataframe tbody tr th {\n",
       "        vertical-align: top;\n",
       "    }\n",
       "\n",
       "    .dataframe thead th {\n",
       "        text-align: right;\n",
       "    }\n",
       "</style>\n",
       "<table border=\"1\" class=\"dataframe\">\n",
       "  <thead>\n",
       "    <tr style=\"text-align: right;\">\n",
       "      <th></th>\n",
       "      <th>OEP EEG</th>\n",
       "      <th>OEP biomass</th>\n",
       "      <th>OEP hydro</th>\n",
       "      <th>OEP wind</th>\n",
       "      <th>OPSD EEG</th>\n",
       "      <th>OPSD biomass</th>\n",
       "      <th>OPSD hydro</th>\n",
       "      <th>OPSD wind</th>\n",
       "      <th>id</th>\n",
       "    </tr>\n",
       "  </thead>\n",
       "  <tbody>\n",
       "    <tr>\n",
       "      <th>31232</th>\n",
       "      <td>True</td>\n",
       "      <td>True</td>\n",
       "      <td>True</td>\n",
       "      <td>False</td>\n",
       "      <td>False</td>\n",
       "      <td>False</td>\n",
       "      <td>False</td>\n",
       "      <td>False</td>\n",
       "      <td>E21875011000000000000295597000000</td>\n",
       "    </tr>\n",
       "  </tbody>\n",
       "</table>\n",
       "</div>"
      ],
      "text/plain": [
       "       OEP EEG  OEP biomass  OEP hydro  OEP wind  OPSD EEG  OPSD biomass  \\\n",
       "31232     True         True       True     False     False         False   \n",
       "\n",
       "       OPSD hydro  OPSD wind                                 id  \n",
       "31232       False      False  E21875011000000000000295597000000  "
      ]
     },
     "execution_count": 8,
     "metadata": {},
     "output_type": "execute_result"
    }
   ],
   "source": [
    "df2 = df_upset.reset_index()\n",
    "# OEP IDs shared between biomass and hydro\n",
    "df2[(df2[\"OEP EEG\"])&(df2[\"OEP biomass\"])&(df2[\"OEP hydro\"])&~(df2[\"OEP wind\"])]"
   ]
  },
  {
   "cell_type": "markdown",
   "metadata": {},
   "source": [
    "Two EEG IDs are identified as wind turbines by the OEP-MaStR dataset but are indicated as biomass power plants in OPSD data."
   ]
  },
  {
   "cell_type": "code",
   "execution_count": 9,
   "metadata": {},
   "outputs": [
    {
     "data": {
      "text/html": [
       "<div>\n",
       "<style scoped>\n",
       "    .dataframe tbody tr th:only-of-type {\n",
       "        vertical-align: middle;\n",
       "    }\n",
       "\n",
       "    .dataframe tbody tr th {\n",
       "        vertical-align: top;\n",
       "    }\n",
       "\n",
       "    .dataframe thead th {\n",
       "        text-align: right;\n",
       "    }\n",
       "</style>\n",
       "<table border=\"1\" class=\"dataframe\">\n",
       "  <thead>\n",
       "    <tr style=\"text-align: right;\">\n",
       "      <th></th>\n",
       "      <th>OEP EEG</th>\n",
       "      <th>OEP biomass</th>\n",
       "      <th>OEP hydro</th>\n",
       "      <th>OEP wind</th>\n",
       "      <th>OPSD EEG</th>\n",
       "      <th>OPSD biomass</th>\n",
       "      <th>OPSD hydro</th>\n",
       "      <th>OPSD wind</th>\n",
       "      <th>id</th>\n",
       "    </tr>\n",
       "  </thead>\n",
       "  <tbody>\n",
       "    <tr>\n",
       "      <th>237</th>\n",
       "      <td>True</td>\n",
       "      <td>False</td>\n",
       "      <td>False</td>\n",
       "      <td>True</td>\n",
       "      <td>True</td>\n",
       "      <td>True</td>\n",
       "      <td>False</td>\n",
       "      <td>False</td>\n",
       "      <td>E2069801101E073718123064812309001</td>\n",
       "    </tr>\n",
       "    <tr>\n",
       "      <th>238</th>\n",
       "      <td>True</td>\n",
       "      <td>False</td>\n",
       "      <td>False</td>\n",
       "      <td>True</td>\n",
       "      <td>True</td>\n",
       "      <td>True</td>\n",
       "      <td>False</td>\n",
       "      <td>False</td>\n",
       "      <td>E3123801V000000000000047525090952</td>\n",
       "    </tr>\n",
       "  </tbody>\n",
       "</table>\n",
       "</div>"
      ],
      "text/plain": [
       "     OEP EEG  OEP biomass  OEP hydro  OEP wind  OPSD EEG  OPSD biomass  \\\n",
       "237     True        False      False      True      True          True   \n",
       "238     True        False      False      True      True          True   \n",
       "\n",
       "     OPSD hydro  OPSD wind                                 id  \n",
       "237       False      False  E2069801101E073718123064812309001  \n",
       "238       False      False  E3123801V000000000000047525090952  "
      ]
     },
     "execution_count": 9,
     "metadata": {},
     "output_type": "execute_result"
    }
   ],
   "source": [
    "df2[(df2[\"OEP wind\"])&(df2[\"OPSD biomass\"])&~(df2[\"OPSD wind\"])]"
   ]
  },
  {
   "cell_type": "markdown",
   "metadata": {},
   "source": [
    "### OPSD"
   ]
  },
  {
   "cell_type": "markdown",
   "metadata": {},
   "source": [
    "The OPSD dataset contains 17,833 unique EEG IDs. 5,489 belong to bioenergy plants, 1,344 belong to hydro power plants, 11,013 belong to wind turbines. Similar to the OEP dataset, some EEG IDs are assigned to multiple power plants of different type. 5 EEG IDs are shared between biomass and hydro plants, three of which are obviously incorrect:"
   ]
  },
  {
   "cell_type": "code",
   "execution_count": 10,
   "metadata": {},
   "outputs": [
    {
     "data": {
      "text/html": [
       "<div>\n",
       "<style scoped>\n",
       "    .dataframe tbody tr th:only-of-type {\n",
       "        vertical-align: middle;\n",
       "    }\n",
       "\n",
       "    .dataframe tbody tr th {\n",
       "        vertical-align: top;\n",
       "    }\n",
       "\n",
       "    .dataframe thead th {\n",
       "        text-align: right;\n",
       "    }\n",
       "</style>\n",
       "<table border=\"1\" class=\"dataframe\">\n",
       "  <thead>\n",
       "    <tr style=\"text-align: right;\">\n",
       "      <th></th>\n",
       "      <th>OEP EEG</th>\n",
       "      <th>OEP biomass</th>\n",
       "      <th>OEP hydro</th>\n",
       "      <th>OEP wind</th>\n",
       "      <th>OPSD EEG</th>\n",
       "      <th>OPSD biomass</th>\n",
       "      <th>OPSD hydro</th>\n",
       "      <th>OPSD wind</th>\n",
       "      <th>id</th>\n",
       "    </tr>\n",
       "  </thead>\n",
       "  <tbody>\n",
       "    <tr>\n",
       "      <th>50819</th>\n",
       "      <td>False</td>\n",
       "      <td>False</td>\n",
       "      <td>False</td>\n",
       "      <td>False</td>\n",
       "      <td>True</td>\n",
       "      <td>True</td>\n",
       "      <td>True</td>\n",
       "      <td>False</td>\n",
       "      <td>E2104101S160000000000031538200001</td>\n",
       "    </tr>\n",
       "    <tr>\n",
       "      <th>52493</th>\n",
       "      <td>False</td>\n",
       "      <td>False</td>\n",
       "      <td>False</td>\n",
       "      <td>False</td>\n",
       "      <td>True</td>\n",
       "      <td>True</td>\n",
       "      <td>True</td>\n",
       "      <td>False</td>\n",
       "      <td>E1084301E100000000000002608000001</td>\n",
       "    </tr>\n",
       "    <tr>\n",
       "      <th>54331</th>\n",
       "      <td>False</td>\n",
       "      <td>False</td>\n",
       "      <td>False</td>\n",
       "      <td>False</td>\n",
       "      <td>True</td>\n",
       "      <td>True</td>\n",
       "      <td>True</td>\n",
       "      <td>False</td>\n",
       "      <td>EEG-Anlagenschlüssel</td>\n",
       "    </tr>\n",
       "    <tr>\n",
       "      <th>54758</th>\n",
       "      <td>False</td>\n",
       "      <td>False</td>\n",
       "      <td>False</td>\n",
       "      <td>False</td>\n",
       "      <td>True</td>\n",
       "      <td>True</td>\n",
       "      <td>True</td>\n",
       "      <td>False</td>\n",
       "      <td>yes</td>\n",
       "    </tr>\n",
       "    <tr>\n",
       "      <th>54759</th>\n",
       "      <td>False</td>\n",
       "      <td>False</td>\n",
       "      <td>False</td>\n",
       "      <td>False</td>\n",
       "      <td>True</td>\n",
       "      <td>True</td>\n",
       "      <td>True</td>\n",
       "      <td>False</td>\n",
       "      <td>no</td>\n",
       "    </tr>\n",
       "  </tbody>\n",
       "</table>\n",
       "</div>"
      ],
      "text/plain": [
       "       OEP EEG  OEP biomass  OEP hydro  OEP wind  OPSD EEG  OPSD biomass  \\\n",
       "50819    False        False      False     False      True          True   \n",
       "52493    False        False      False     False      True          True   \n",
       "54331    False        False      False     False      True          True   \n",
       "54758    False        False      False     False      True          True   \n",
       "54759    False        False      False     False      True          True   \n",
       "\n",
       "       OPSD hydro  OPSD wind                                 id  \n",
       "50819        True      False  E2104101S160000000000031538200001  \n",
       "52493        True      False  E1084301E100000000000002608000001  \n",
       "54331        True      False               EEG-Anlagenschlüssel  \n",
       "54758        True      False                                yes  \n",
       "54759        True      False                                 no  "
      ]
     },
     "execution_count": 10,
     "metadata": {},
     "output_type": "execute_result"
    }
   ],
   "source": [
    "# OPSD IDs shared between biomass and hydro\n",
    "df2[(df2[\"OPSD EEG\"])&(df2[\"OPSD biomass\"])&(df2[\"OPSD hydro\"])&~(df2[\"OPSD wind\"])]"
   ]
  },
  {
   "cell_type": "markdown",
   "metadata": {},
   "source": [
    "5 OPSD EEG IDs are shared between biomass and wind plants. One of these is incorrect (KWK-Anlage). Two of them occur in the OEG-MaStR data as wind (E2069801101E073718123064812309002) and biomass (E20689011000000000095221145200001) respectively. The last two do not occur in the OEP-MaStR data."
   ]
  },
  {
   "cell_type": "code",
   "execution_count": 11,
   "metadata": {},
   "outputs": [
    {
     "data": {
      "text/html": [
       "<div>\n",
       "<style scoped>\n",
       "    .dataframe tbody tr th:only-of-type {\n",
       "        vertical-align: middle;\n",
       "    }\n",
       "\n",
       "    .dataframe tbody tr th {\n",
       "        vertical-align: top;\n",
       "    }\n",
       "\n",
       "    .dataframe thead th {\n",
       "        text-align: right;\n",
       "    }\n",
       "</style>\n",
       "<table border=\"1\" class=\"dataframe\">\n",
       "  <thead>\n",
       "    <tr style=\"text-align: right;\">\n",
       "      <th></th>\n",
       "      <th>OEP EEG</th>\n",
       "      <th>OEP biomass</th>\n",
       "      <th>OEP hydro</th>\n",
       "      <th>OEP wind</th>\n",
       "      <th>OPSD EEG</th>\n",
       "      <th>OPSD biomass</th>\n",
       "      <th>OPSD hydro</th>\n",
       "      <th>OPSD wind</th>\n",
       "      <th>id</th>\n",
       "    </tr>\n",
       "  </thead>\n",
       "  <tbody>\n",
       "    <tr>\n",
       "      <th>2756</th>\n",
       "      <td>True</td>\n",
       "      <td>False</td>\n",
       "      <td>False</td>\n",
       "      <td>True</td>\n",
       "      <td>True</td>\n",
       "      <td>True</td>\n",
       "      <td>False</td>\n",
       "      <td>True</td>\n",
       "      <td>E2069801101E073718123064812309002</td>\n",
       "    </tr>\n",
       "    <tr>\n",
       "      <th>36003</th>\n",
       "      <td>True</td>\n",
       "      <td>True</td>\n",
       "      <td>False</td>\n",
       "      <td>False</td>\n",
       "      <td>True</td>\n",
       "      <td>True</td>\n",
       "      <td>False</td>\n",
       "      <td>True</td>\n",
       "      <td>E20689011000000000095221145200001</td>\n",
       "    </tr>\n",
       "    <tr>\n",
       "      <th>51085</th>\n",
       "      <td>False</td>\n",
       "      <td>False</td>\n",
       "      <td>False</td>\n",
       "      <td>False</td>\n",
       "      <td>True</td>\n",
       "      <td>True</td>\n",
       "      <td>False</td>\n",
       "      <td>True</td>\n",
       "      <td>KWK-Anlage</td>\n",
       "    </tr>\n",
       "    <tr>\n",
       "      <th>53835</th>\n",
       "      <td>False</td>\n",
       "      <td>False</td>\n",
       "      <td>False</td>\n",
       "      <td>False</td>\n",
       "      <td>True</td>\n",
       "      <td>True</td>\n",
       "      <td>False</td>\n",
       "      <td>True</td>\n",
       "      <td>E21897010000000000000000000100001</td>\n",
       "    </tr>\n",
       "    <tr>\n",
       "      <th>54342</th>\n",
       "      <td>False</td>\n",
       "      <td>False</td>\n",
       "      <td>False</td>\n",
       "      <td>False</td>\n",
       "      <td>True</td>\n",
       "      <td>True</td>\n",
       "      <td>False</td>\n",
       "      <td>True</td>\n",
       "      <td>E20793010000000000000000000010004</td>\n",
       "    </tr>\n",
       "  </tbody>\n",
       "</table>\n",
       "</div>"
      ],
      "text/plain": [
       "       OEP EEG  OEP biomass  OEP hydro  OEP wind  OPSD EEG  OPSD biomass  \\\n",
       "2756      True        False      False      True      True          True   \n",
       "36003     True         True      False     False      True          True   \n",
       "51085    False        False      False     False      True          True   \n",
       "53835    False        False      False     False      True          True   \n",
       "54342    False        False      False     False      True          True   \n",
       "\n",
       "       OPSD hydro  OPSD wind                                 id  \n",
       "2756        False       True  E2069801101E073718123064812309002  \n",
       "36003       False       True  E20689011000000000095221145200001  \n",
       "51085       False       True                         KWK-Anlage  \n",
       "53835       False       True  E21897010000000000000000000100001  \n",
       "54342       False       True  E20793010000000000000000000010004  "
      ]
     },
     "execution_count": 11,
     "metadata": {},
     "output_type": "execute_result"
    }
   ],
   "source": [
    "# OPSD IDs shared between biomass and wind\n",
    "df2[(df2[\"OPSD EEG\"])&(df2[\"OPSD biomass\"])&~(df2[\"OPSD hydro\"])&(df2[\"OPSD wind\"])]"
   ]
  },
  {
   "cell_type": "markdown",
   "metadata": {},
   "source": [
    "3 OPSD EEG-IDs are shared between hydro and wind. Two of these are incorrect. The last one is identified as a wind turbine in OEP data."
   ]
  },
  {
   "cell_type": "code",
   "execution_count": 12,
   "metadata": {},
   "outputs": [
    {
     "data": {
      "text/html": [
       "<div>\n",
       "<style scoped>\n",
       "    .dataframe tbody tr th:only-of-type {\n",
       "        vertical-align: middle;\n",
       "    }\n",
       "\n",
       "    .dataframe tbody tr th {\n",
       "        vertical-align: top;\n",
       "    }\n",
       "\n",
       "    .dataframe thead th {\n",
       "        text-align: right;\n",
       "    }\n",
       "</style>\n",
       "<table border=\"1\" class=\"dataframe\">\n",
       "  <thead>\n",
       "    <tr style=\"text-align: right;\">\n",
       "      <th></th>\n",
       "      <th>OEP EEG</th>\n",
       "      <th>OEP biomass</th>\n",
       "      <th>OEP hydro</th>\n",
       "      <th>OEP wind</th>\n",
       "      <th>OPSD EEG</th>\n",
       "      <th>OPSD biomass</th>\n",
       "      <th>OPSD hydro</th>\n",
       "      <th>OPSD wind</th>\n",
       "      <th>id</th>\n",
       "    </tr>\n",
       "  </thead>\n",
       "  <tbody>\n",
       "    <tr>\n",
       "      <th>6290</th>\n",
       "      <td>True</td>\n",
       "      <td>False</td>\n",
       "      <td>False</td>\n",
       "      <td>True</td>\n",
       "      <td>True</td>\n",
       "      <td>False</td>\n",
       "      <td>True</td>\n",
       "      <td>True</td>\n",
       "      <td>E13005011000000000001002269200001</td>\n",
       "    </tr>\n",
       "    <tr>\n",
       "      <th>54394</th>\n",
       "      <td>False</td>\n",
       "      <td>False</td>\n",
       "      <td>False</td>\n",
       "      <td>False</td>\n",
       "      <td>True</td>\n",
       "      <td>False</td>\n",
       "      <td>True</td>\n",
       "      <td>True</td>\n",
       "      <td>noch nicht bekannt</td>\n",
       "    </tr>\n",
       "    <tr>\n",
       "      <th>54438</th>\n",
       "      <td>False</td>\n",
       "      <td>False</td>\n",
       "      <td>False</td>\n",
       "      <td>False</td>\n",
       "      <td>True</td>\n",
       "      <td>False</td>\n",
       "      <td>True</td>\n",
       "      <td>True</td>\n",
       "      <td>Information liegt noch nicht vor.</td>\n",
       "    </tr>\n",
       "  </tbody>\n",
       "</table>\n",
       "</div>"
      ],
      "text/plain": [
       "       OEP EEG  OEP biomass  OEP hydro  OEP wind  OPSD EEG  OPSD biomass  \\\n",
       "6290      True        False      False      True      True         False   \n",
       "54394    False        False      False     False      True         False   \n",
       "54438    False        False      False     False      True         False   \n",
       "\n",
       "       OPSD hydro  OPSD wind                                 id  \n",
       "6290         True       True  E13005011000000000001002269200001  \n",
       "54394        True       True                 noch nicht bekannt  \n",
       "54438        True       True  Information liegt noch nicht vor.  "
      ]
     },
     "execution_count": 12,
     "metadata": {},
     "output_type": "execute_result"
    }
   ],
   "source": [
    "# OPSD IDs shared between hydro and wind\n",
    "df2[(df2[\"OPSD EEG\"])&~(df2[\"OPSD biomass\"])&(df2[\"OPSD hydro\"])&(df2[\"OPSD wind\"])]"
   ]
  },
  {
   "cell_type": "markdown",
   "metadata": {},
   "source": [
    "### Cleaning and re-comparison"
   ]
  },
  {
   "cell_type": "markdown",
   "metadata": {},
   "source": [
    "Fix wrongly assigned EEG IDs where indication is given by other dataset. Remove those where no indication is given."
   ]
  },
  {
   "cell_type": "code",
   "execution_count": 13,
   "metadata": {},
   "outputs": [
    {
     "data": {
      "text/plain": [
       "{'matrix': <matplotlib.axes._subplots.AxesSubplot at 0xdeb45c0>,\n",
       " 'shading': <matplotlib.axes._subplots.AxesSubplot at 0x88832b0>,\n",
       " 'totals': <matplotlib.axes._subplots.AxesSubplot at 0xf262b70>,\n",
       " 'intersections': <matplotlib.axes._subplots.AxesSubplot at 0xf262160>}"
      ]
     },
     "execution_count": 13,
     "metadata": {},
     "output_type": "execute_result"
    },
    {
     "data": {
      "image/png": "[encoded data removed]",
      "text/plain": [
       "<Figure size 434.25x448 with 4 Axes>"
      ]
     },
     "metadata": {
      "needs_background": "light"
     },
     "output_type": "display_data"
    }
   ],
   "source": [
    "df2.loc[2756,\"OPSD biomass\"] = False\n",
    "df2.loc[36003,\"OPSD wind\"] = False\n",
    "df2.loc[6290,\"OPSD hydro\"] = False\n",
    "df2.drop(\n",
    "    [31232, 237, 238, 50819, 52493, 54331, 54758, 54759, 51085, 53835, 54342, 54394, 54438], \n",
    "    inplace=True\n",
    ")\n",
    "df_upset_corrected = df2.set_index(\n",
    "    [\"OEP EEG\", \"OEP biomass\", \"OEP hydro\", \"OEP wind\", \"OPSD EEG\", \"OPSD biomass\", \"OPSD hydro\", \"OPSD wind\"]\n",
    ")\n",
    "upsetplot.plot(df_upset_corrected, subset_size=\"count\", sort_categories_by=None, show_counts=True)"
   ]
  },
  {
   "cell_type": "markdown",
   "metadata": {},
   "source": [
    "The fixed OEP dataset contains 50,651 unique EEG IDs. 14,959 of these belong to bioenergy plants. 6,381 belong to hydro power plants. 29,311 belong to wind turbines. The fixed OPSD dataset contains 17,821 unique EEG IDs. 5,478 belong to bioenergy plants, 1,336 to hydro power plants, 11,007 to wind turbines. Of the EEG IDs uniquely associated with bioenergy plants, 10,624 are contained exclusively in the OEP-MaStR data, 1,143 are contained exclusively in OPSD data and **4,335 bioenergy EEG IDs** are contained in both datasets. Of the EEG IDs uniquely associated with hydro power plants, 6,146 are contained exclusively in the OEP-MaStR data, 1,101 are contained exclusively in OPSD data and **only 235 hydro power EEG IDs** are contained in both datasets. Of the EEG IDs uniquely associated with wind power, 20,156 are contained exclusively in the OEP-MaStR data, 1,852 are contained exclusively in OPSD data and **9,155 wind power EEG IDs** are contained in both datasets."
   ]
  },
  {
   "cell_type": "markdown",
   "metadata": {},
   "source": [
    "| Type | OEP only | intersection | OPSD only | sum |\n",
    "| ---------------: | -------: | ------------: | --------: | --: |\n",
    "| bioenergy | 10,624 | 4,335 | 1,143 | 16,102 |\n",
    "| hydro | 6,146 | 235 | 1,101 | 7,482 |\n",
    "| wind | 20,156 | 9,155 | 1,852 | 31,163 |\n",
    "| sum | 36,926 | 13,725 | 4,096 | 54,747 |"
   ]
  },
  {
   "cell_type": "markdown",
   "metadata": {},
   "source": [
    "## Conclusion"
   ]
  },
  {
   "cell_type": "markdown",
   "metadata": {},
   "source": [
    "The OEP dataset contains much more entries than the OPSD dataset. Yet, there is potential for combining them. 4,096 entries are contained in OPSD data but not in OEP-MaStR data. It should be considered whether these can be merged into OEP."
   ]
  }
 ],
 "metadata": {
  "kernelspec": {
   "display_name": "Python 3",
   "language": "python",
   "name": "python3"
  },
  "language_info": {
   "codemirror_mode": {
    "name": "ipython",
    "version": 3
   },
   "file_extension": ".py",
   "mimetype": "text/x-python",
   "name": "python",
   "nbconvert_exporter": "python",
   "pygments_lexer": "ipython3",
   "version": "3.7.3"
  },
  "toc": {
   "base_numbering": 1,
   "nav_menu": {},
   "number_sections": true,
   "sideBar": true,
   "skip_h1_title": true,
   "title_cell": "Table of Contents",
   "title_sidebar": "Contents",
   "toc_cell": true,
   "toc_position": {
    "height": "calc(100% - 180px)",
    "left": "10px",
    "top": "150px",
    "width": "384px"
   },
   "toc_section_display": true,
   "toc_window_display": true
  }
 },
 "nbformat": 4,
 "nbformat_minor": 2
}
