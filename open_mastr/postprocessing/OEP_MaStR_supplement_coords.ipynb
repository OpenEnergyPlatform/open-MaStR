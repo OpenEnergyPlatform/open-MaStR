{
 "cells": [
  {
   "cell_type": "markdown",
   "metadata": {},
   "source": [
    "<img src=\"http://openenergy-platform.org/static/OEP_logo_2_no_text.svg\" alt=\"OpenEnergy Platform\" height=\"100\" width=\"100\"  align=\"left\"/>\n",
    "<img src=\"https://upload.wikimedia.org/wikipedia/commons/thumb/a/ad/Bhl_neue_wege_logo_transparent.svg/2000px-Bhl_neue_wege_logo_transparent.svg.png\" alt=\"BHL\" height=\"300\" width=\"300\" align=\"right\"/>\n",
    "\n",
    "# OpenEnergyPlatform\n",
    "<br><br>\n",
    "\n",
    "# MaStR Supplement Coordinate Data\n",
    "Repository: https://github.com/OpenEnergyPlatform/data-preprocessing/tree/master/data-import/bnetza_mastr\n",
    "\n",
    "Please report bugs and improvements here: https://github.com/OpenEnergyPlatform/data-preprocessing/issues <br>\n",
    "How to get started with Jupyter Notebooks can be found here: https://github.com/OpenEnergyPlatform/oeplatform/wiki"
   ]
  },
  {
   "cell_type": "code",
   "execution_count": null,
   "metadata": {},
   "outputs": [],
   "source": [
    "__copyright__ = \"Bauhaus Luftfahrt e.V.\"\n",
    "__license__   = \"GNU Affero General Public License Version 3 (AGPL-3.0)\"\n",
    "__url__       = \"https://github.com/openego/data_processing/blob/master/LICENSE\"\n",
    "__author__    = \"Benjamin W. Portner\""
   ]
  },
  {
   "cell_type": "markdown",
   "metadata": {
    "toc": true
   },
   "source": [
    "<h1>Table of Contents<span class=\"tocSkip\"></span></h1>\n",
    "<div class=\"toc\"><ul class=\"toc-item\"><li><span><a href=\"#OEP-MaStR-data\" data-toc-modified-id=\"OEP-MaStR-data-1\"><span class=\"toc-item-num\">1&nbsp;&nbsp;</span>OEP MaStR data</a></span><ul class=\"toc-item\"><li><span><a href=\"#Load-data\" data-toc-modified-id=\"Load-data-1.1\"><span class=\"toc-item-num\">1.1&nbsp;&nbsp;</span>Load data</a></span></li></ul></li><li><span><a href=\"#OPSD-data\" data-toc-modified-id=\"OPSD-data-2\"><span class=\"toc-item-num\">2&nbsp;&nbsp;</span>OPSD data</a></span><ul class=\"toc-item\"><li><span><a href=\"#Load-and-clean-data\" data-toc-modified-id=\"Load-and-clean-data-2.1\"><span class=\"toc-item-num\">2.1&nbsp;&nbsp;</span>Load and clean data</a></span></li></ul></li><li><span><a href=\"#Match-datasets\" data-toc-modified-id=\"Match-datasets-3\"><span class=\"toc-item-num\">3&nbsp;&nbsp;</span>Match datasets</a></span></li><li><span><a href=\"#Export\" data-toc-modified-id=\"Export-4\"><span class=\"toc-item-num\">4&nbsp;&nbsp;</span>Export</a></span></li></ul></div>"
   ]
  },
  {
   "cell_type": "markdown",
   "metadata": {},
   "source": [
    "## OEP MaStR data"
   ]
  },
  {
   "cell_type": "markdown",
   "metadata": {},
   "source": [
    "First off, imports."
   ]
  },
  {
   "cell_type": "code",
   "execution_count": null,
   "metadata": {},
   "outputs": [],
   "source": [
    "import pandas as pd\n",
    "import os\n",
    "from helpers import *"
   ]
  },
  {
   "cell_type": "markdown",
   "metadata": {},
   "source": [
    "### Load data"
   ]
  },
  {
   "cell_type": "markdown",
   "metadata": {},
   "source": [
    "Load data with no / wrong coordinates. Merge into one DataFrame:"
   ]
  },
  {
   "cell_type": "code",
   "execution_count": null,
   "metadata": {},
   "outputs": [],
   "source": [
    "df_no_coord = pd.read_csv(\n",
    "    \"output/OEP_1_unlocated.csv\", \n",
    "    parse_dates=[\"Inbetriebnahmedatum\"], dtype={\"Postleitzahl\":str}\n",
    ")\n",
    "df_wrong_coord = pd.read_csv(\n",
    "    \"output/OEP_2_incorrect_lctn.csv\",\n",
    "    parse_dates=[\"Inbetriebnahmedatum\"], dtype={\"Postleitzahl\":str}\n",
    ")\n",
    "\n",
    "df_OEP_unlocated = df_no_coord.append(df_wrong_coord, ignore_index=True, sort=False)\n",
    "len(df_OEP_unlocated)"
   ]
  },
  {
   "cell_type": "markdown",
   "metadata": {},
   "source": [
    "There are 33,447 entries that have no / incorrect coordinates."
   ]
  },
  {
   "cell_type": "markdown",
   "metadata": {},
   "source": [
    "## OPSD data"
   ]
  },
  {
   "cell_type": "markdown",
   "metadata": {},
   "source": [
    "Open power Systems Data (OPSD, https://open-power-system-data.org/) is another project offering power plant data for Germany (and many other European states). The datasets include powerplant type, generation capacity, and geo-coordinates (among other fields). "
   ]
  },
  {
   "cell_type": "markdown",
   "metadata": {},
   "source": [
    "### Load and clean data\n",
    "\n",
    "The renewable plants dataset includes many different power plant types, including hydro, solar, wind, bioenergy, and geothermal. For this analysis, I will keep only those contained in the OEP dataset: hydro, bioenergy, and wind. Also, I will rename some columns for compatibility with the OEP MaStR data."
   ]
  },
  {
   "cell_type": "code",
   "execution_count": null,
   "metadata": {},
   "outputs": [],
   "source": [
    "# load renewables\n",
    "df_renewables = pd.read_csv(\n",
    "    \"data/OPSD/renewable_power_plants_DE.csv\",\n",
    "    sep=\";\", encoding=\"ANSI\", parse_dates=[\"commissioning_date\"]\n",
    ")\n",
    "\n",
    "# keep only wind, bioenergy and hydro\n",
    "df_renewables = df_renewables[df_renewables[\"energy_source_level_2\"].isin([\"Wind\",\"Bioenergy\",\"Hydro\"])]\n",
    "\n",
    "# rename columns for compatibiliy with OEP data\n",
    "df_renewables.rename(columns={\n",
    "    \"energy_source_level_2\": \"Einheittyp\",\n",
    "    \"address\" : \"Standort\",\n",
    "    \"federal_state\": \"Bundesland\",\n",
    "    \"commissioning_date\": \"Inbetriebnahmedatum\",\n",
    "    \"electrical_capacity\": \"Bruttoleistung\",\n",
    "    \"lat\": \"Breitengrad\",\n",
    "    \"lon\": \"Laengengrad\",\n",
    "    \"eeg_id\": \"AnlagenschluesselEeg\",\n",
    "}, inplace=True)\n",
    "\n",
    "# add columns which are not defined in OPSD data\n",
    "df_renewables[\"Name\"] = None\n",
    "df_renewables[\"Land\"] = \"Deutschland\"\n",
    "\n",
    "# rename types for compatibility with OEP\n",
    "df_renewables[\"Einheittyp\"].replace({\"Hydro\": \"Wasser\", \"Bioenergy\": \"Biomasse\", \"Wind\": \"Windeinheit\"}, inplace=True)\n",
    "\n",
    "df_renewables.head()"
   ]
  },
  {
   "cell_type": "markdown",
   "metadata": {},
   "source": [
    "Apart from renewabe plant data, OPSD also offers data of fossil power plants. Strangely, some biomass and hydro plants are not contained in the renewable dataset but in the fossil one. Let's add those to the renewable set."
   ]
  },
  {
   "cell_type": "code",
   "execution_count": null,
   "metadata": {},
   "outputs": [],
   "source": [
    "# load conventional\n",
    "df_conv = pd.read_csv(\n",
    "    \"data/OPSD/conventional_power_plants_DE.csv\",\n",
    "    sep = \",\", encoding = \"ANSI\", decimal=\".\", dtype={\"commissioned\": str}\n",
    ")\n",
    "\n",
    "# keep only wind, bioenergy and hydro\n",
    "df_conv = df_conv[df_conv[\"energy_source_level_2\"].isin([\"Wind\",\"Bioenergy\",\"Hydro\"])]\n",
    "\n",
    "# commissioning dates are given as string with format YYYY.0 - Parse manually:\n",
    "df_conv[\"commissioned\"] = pd.to_datetime(df_conv[\"commissioned\"], format=\"%Y.0\")\n",
    "\n",
    "# rename columns for compatibiliy with OEP data\n",
    "df_conv.rename(columns={\n",
    "    \"energy_source_level_2\": \"Einheittyp\",\n",
    "    \"street\": \"Standort\",\n",
    "    \"state\": \"Bundesland\",\n",
    "    \"commissioned\": \"Inbetriebnahmedatum\",\n",
    "    \"capacity_gross_uba\": \"Bruttoleistung\",\n",
    "    \"lat\": \"Breitengrad\",\n",
    "    \"lon\": \"Laengengrad\",\n",
    "    \"eeg\": \"AnlagenschluesselEeg\",\n",
    "}, inplace=True)\n",
    "\n",
    "# add columns which are not defined in OPSD data\n",
    "df_conv[\"Land\"] = \"Deutschland\"\n",
    "df_conv[\"Name\"] = df_conv[\"name_bnetza\"].fillna(\"\") + df_conv[\"name_uba\"].fillna(\"\")\n",
    "\n",
    "# rename types for compatibility with OEP\n",
    "df_conv[\"Einheittyp\"].replace({\"Hydro\": \"Wasser\", \"Bioenergy\": \"Biomasse\", \"Wind\": \"Windeinheit\"}, inplace=True)\n",
    "\n",
    "# merge\n",
    "df_OPSD = df_renewables.append(df_conv, ignore_index=True, sort=False)\n",
    "\n",
    "len(df_OPSD)"
   ]
  },
  {
   "cell_type": "markdown",
   "metadata": {},
   "source": [
    "The OPSD dataset contains 19,479 entries for hydro, wind, and biomass power plants."
   ]
  },
  {
   "cell_type": "markdown",
   "metadata": {},
   "source": [
    "## Match datasets"
   ]
  },
  {
   "cell_type": "markdown",
   "metadata": {},
   "source": [
    "Both the OEP MaStR data and the OPSD datasets contain a so-called EEG ID, which I use for matching.\n",
    "\n",
    "First, remove entries without EEG ID."
   ]
  },
  {
   "cell_type": "code",
   "execution_count": null,
   "metadata": {},
   "outputs": [],
   "source": [
    "df_OPSD_EEG = df_OPSD[~df_OPSD[\"AnlagenschluesselEeg\"].isna()]\n",
    "df_OEP_EEG = df_OEP_unlocated[~df_OEP_unlocated[\"AnlagenschluesselEeg\"].isna()]\n",
    "\n",
    "len(df_OPSD), len(df_OPSD_EEG), len(df_OEP_unlocated), len(df_OEP_EEG)"
   ]
  },
  {
   "cell_type": "markdown",
   "metadata": {},
   "source": [
    "Luckily, most entries in both datasets have an EEG ID. Next, let's find the intersection."
   ]
  },
  {
   "cell_type": "code",
   "execution_count": null,
   "metadata": {},
   "outputs": [],
   "source": [
    "intersecting_EEGs = set(df_OPSD_EEG[\"AnlagenschluesselEeg\"]).intersection(set(df_OEP_EEG[\"AnlagenschluesselEeg\"]))\n",
    "len(intersecting_EEGs)"
   ]
  },
  {
   "cell_type": "markdown",
   "metadata": {},
   "source": [
    "1,265 unique EEG IDs are contained in both the OPSD data and in the unlocated OEP data. Fetch their coordinates from the OPSD dataset. "
   ]
  },
  {
   "cell_type": "code",
   "execution_count": null,
   "metadata": {},
   "outputs": [],
   "source": [
    "# OPSD datasets intersecting OEP and containing coordinates\n",
    "df_OPSD_intersected_located = df_OPSD_EEG[\n",
    "    ( df_OPSD_EEG[\"AnlagenschluesselEeg\"].isin(intersecting_EEGs) ) &\n",
    "    ~(\n",
    "        df_OPSD_EEG[\"Laengengrad\"].isna() | \n",
    "        df_OPSD_EEG[\"Breitengrad\"].isna() \n",
    "    )\n",
    "]\n",
    "\n",
    "# use unlocated OEP as basis\n",
    "df_extracted = df_OEP_EEG.copy()\n",
    "\n",
    "# default: all coordinates are nan\n",
    "df_extracted.loc[:,[\"Laengengrad\", \"Breitengrad\"]] = None\n",
    "\n",
    "# overwrite coordinates in OEP with those of OPSD\n",
    "for OPSD_index, eeg_id in df_OPSD_intersected_located[\"AnlagenschluesselEeg\"].items():\n",
    "    OEP_indices = df_extracted[df_extracted[\"AnlagenschluesselEeg\"]==eeg_id].index\n",
    "    df_extracted.loc[OEP_indices, [\"Laengengrad\", \"Breitengrad\"]] = \\\n",
    "        df_OPSD_intersected_located.loc[OPSD_index,[\"Laengengrad\", \"Breitengrad\"]].values\n",
    "\n",
    "# keep only overwritten entries\n",
    "df_extracted.dropna(subset=[\"Laengengrad\", \"Breitengrad\"], inplace=True)\n",
    "\n",
    "len(df_extracted)"
   ]
  },
  {
   "cell_type": "markdown",
   "metadata": {},
   "source": [
    "Surprise! We could extract coordinates for 1,299 entries. How can this be when there were only 1,265 intersecting EEG IDs? Because the EEG IDs are not unique! The 1,299 entries have only 1,264 unique EEG IDs. One EEG ID is missing because its coordinates are not contained in the OPSD dataset either."
   ]
  },
  {
   "cell_type": "code",
   "execution_count": null,
   "metadata": {},
   "outputs": [],
   "source": [
    "(\n",
    "    len(df_extracted),\n",
    "    len(df_extracted[\"AnlagenschluesselEeg\"].unique()), \n",
    "    len(df_OPSD_intersected_located[\"AnlagenschluesselEeg\"].unique())\n",
    ")"
   ]
  },
  {
   "cell_type": "markdown",
   "metadata": {},
   "source": [
    "## Export"
   ]
  },
  {
   "cell_type": "markdown",
   "metadata": {},
   "source": [
    "Export DataFrames and plots: New located entries (OEP-OPSD-intersection)."
   ]
  },
  {
   "cell_type": "code",
   "execution_count": null,
   "metadata": {},
   "outputs": [],
   "source": [
    "df_extracted.to_csv(\"output/OEP_3_located_only_OPSD.csv\", index=False)\n",
    "plot = plotPowerPlants(df_extracted)\n",
    "gv.renderer(\"bokeh\").save(plot, \"output/OEP_3_located_only_OPSD\")"
   ]
  },
  {
   "cell_type": "markdown",
   "metadata": {},
   "source": [
    "Update the set of located entries (OEP located plus OPSD)."
   ]
  },
  {
   "cell_type": "code",
   "execution_count": null,
   "metadata": {},
   "outputs": [],
   "source": [
    "# load OEP datasets with validated locations\n",
    "df_OEP_located = pd.read_csv(\n",
    "    \"output/OEP_2_correct_lctn.csv\",\n",
    "    parse_dates=[\"Inbetriebnahmedatum\"], dtype={\"Postleitzahl\":str}\n",
    ")\n",
    "\n",
    "# add newly located\n",
    "df_OEP_OPSD_located = df_OEP_located.append(df_extracted, ignore_index=True, sort=False)\n",
    "\n",
    "# export\n",
    "df_OEP_OPSD_located.to_csv(\"output/OEP_3_located_incl_OPSD.csv\", index=False)\n",
    "plot = plotPowerPlants(df_OEP_OPSD_located)\n",
    "gv.renderer(\"bokeh\").save(plot, \"output/OEP_3_located_incl_OPSD\")"
   ]
  },
  {
   "cell_type": "markdown",
   "metadata": {},
   "source": [
    "Update the set of unlocated entries (OEP unlocated minus all located)."
   ]
  },
  {
   "cell_type": "code",
   "execution_count": null,
   "metadata": {},
   "outputs": [],
   "source": [
    "# now unlocated = previously unlocated - newly located\n",
    "df_OEP_OPSD_unlocated = df_OEP_unlocated[\n",
    "    ~( df_OEP_unlocated[\"EinheitMastrNummer\"].isin(df_OEP_OPSD_located[\"EinheitMastrNummer\"]) )\n",
    "].copy().reset_index(drop=True)\n",
    "\n",
    "# export\n",
    "df_OEP_OPSD_unlocated.to_csv(\"output/OEP_3_unlocated_incl_OPSD.csv\", index=False)"
   ]
  },
  {
   "cell_type": "markdown",
   "metadata": {},
   "source": [
    "I do not plot the unlocated entries because none of them have coordinates. All wrongly located entries have been removed! Also, more than half of the entries in the OEP dataset are now located!"
   ]
  },
  {
   "cell_type": "code",
   "execution_count": null,
   "metadata": {},
   "outputs": [],
   "source": [
    "len(df_OEP_OPSD_located), len(df_OEP_OPSD_unlocated)"
   ]
  }
 ],
 "metadata": {
  "kernelspec": {
   "display_name": "Python 3",
   "language": "python",
   "name": "python3"
  },
  "language_info": {
   "codemirror_mode": {
    "name": "ipython",
    "version": 3
   },
   "file_extension": ".py",
   "mimetype": "text/x-python",
   "name": "python",
   "nbconvert_exporter": "python",
   "pygments_lexer": "ipython3",
   "version": "3.7.3"
  },
  "toc": {
   "base_numbering": 1,
   "nav_menu": {},
   "number_sections": true,
   "sideBar": true,
   "skip_h1_title": true,
   "title_cell": "Table of Contents",
   "title_sidebar": "Contents",
   "toc_cell": true,
   "toc_position": {},
   "toc_section_display": true,
   "toc_window_display": false
  }
 },
 "nbformat": 4,
 "nbformat_minor": 2
}
